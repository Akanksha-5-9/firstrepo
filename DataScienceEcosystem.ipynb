{
 "cells": [
  {
   "cell_type": "markdown",
   "id": "9b072b02-3ca7-4df2-b709-ebcb284f754e",
   "metadata": {},
   "source": [
    "# Data Science Tools & Ecosystem"
   ]
  },
  {
   "cell_type": "markdown",
   "id": "60508cb2-13f4-48cd-8edd-1de298efcf0d",
   "metadata": {},
   "source": [
    "In this notebook, Data Science Tools and Ecosystem are summarized."
   ]
  },
  {
   "cell_type": "markdown",
   "id": "10c950cc-f5e7-477e-8710-1cae45be46fd",
   "metadata": {},
   "source": [
    "ome of the popular languages that Data Scientists use are:\n",
    "1. Python\n",
    "2. R\n",
    "3. Julia"
   ]
  },
  {
   "cell_type": "markdown",
   "id": "c2d65649-e4b9-4ebe-aa27-2019cd01c76b",
   "metadata": {},
   "source": [
    "Some of the commonly used libraries used by Data Scientists include:\n",
    "1. Pandas\n",
    "2. Numpy\n",
    "3. Matplotlib\n",
    "4. Seaborn\n",
    "5. Scikit learn"
   ]
  },
  {
   "cell_type": "markdown",
   "id": "733f479c-313b-4d97-82e9-f8d13d6a317e",
   "metadata": {},
   "source": [
    "Some of the commonly used libraries used by Data Scientists include:\n",
    "|Data Science Tools|\n",
    "|:----------------:|\n",
    "|        R         |\n",
    "| Jupyter Notebook |\n",
    "|      VS Code     |"
   ]
  },
  {
   "cell_type": "markdown",
   "id": "126fe7ea-d6dd-4f7e-b4ac-3b96f447c7bb",
   "metadata": {},
   "source": [
    "### Below are a few examples of evaluating arithmetic expressions in Python"
   ]
  },
  {
   "cell_type": "code",
   "execution_count": 1,
   "id": "7e85d149-5451-4041-b1a3-0dcd287a70f2",
   "metadata": {},
   "outputs": [
    {
     "name": "stdout",
     "output_type": "stream",
     "text": [
      "2.4\n"
     ]
    }
   ],
   "source": [
    "result = (3*4)/5\n",
    "print(result)"
   ]
  },
  {
   "cell_type": "code",
   "execution_count": 2,
   "id": "f7ceb5a6-d0e0-404e-89be-14606b15b2ca",
   "metadata": {},
   "outputs": [
    {
     "name": "stdout",
     "output_type": "stream",
     "text": [
      "10.0\n"
     ]
    }
   ],
   "source": [
    "#This will convert 200 minutes to hours by diving by 60.\n",
    "hours = 600/60\n",
    "print(hours)"
   ]
  },
  {
   "cell_type": "markdown",
   "id": "648fc204-4674-42c7-b3ae-7cbc2b5572c7",
   "metadata": {},
   "source": [
    "## Objectives:\n",
    "- Popular Data Science Languages\n",
    "- Commonly used python libraries\n",
    "- Data science tools"
   ]
  },
  {
   "cell_type": "markdown",
   "id": "690d5499-f5c9-4ab1-9bd2-57e2d8809260",
   "metadata": {},
   "source": [
    "## Author\n",
    "Akanksha"
   ]
  },
  {
   "cell_type": "code",
   "execution_count": null,
   "id": "dd4ed6f1-c87f-4536-b4e0-82acae27f6bc",
   "metadata": {},
   "outputs": [],
   "source": []
  }
 ],
 "metadata": {
  "kernelspec": {
   "display_name": "Python 3 (ipykernel)",
   "language": "python",
   "name": "python3"
  },
  "language_info": {
   "codemirror_mode": {
    "name": "ipython",
    "version": 3
   },
   "file_extension": ".py",
   "mimetype": "text/x-python",
   "name": "python",
   "nbconvert_exporter": "python",
   "pygments_lexer": "ipython3",
   "version": "3.11.7"
  }
 },
 "nbformat": 4,
 "nbformat_minor": 5
}
